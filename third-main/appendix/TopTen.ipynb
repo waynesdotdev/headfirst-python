{
 "cells": [
  {
   "attachments": {},
   "cell_type": "markdown",
   "metadata": {},
   "source": [
    "## The Top Ten Things"
   ]
  },
  {
   "attachments": {},
   "cell_type": "markdown",
   "metadata": {},
   "source": [
    "### 1. Classes"
   ]
  },
  {
   "attachments": {},
   "cell_type": "markdown",
   "metadata": {},
   "source": [
    "Here's some questions to ask yourself *before* creating a custom class with Python:\n",
    "\n",
    "* Will a dictionary do instead? See https://docs.python.org/3/tutorial/datastructures.html#dictionaries\n",
    "\n",
    "* What about defining a class using the built-in dataclass? See https://docs.python.org/3/library/dataclasses.html\n",
    "\n",
    "* What about using the third-party attrs package? See https://pypi.org/project/attrs/\n",
    "\n",
    "If you have three \"no\" answers, start here: https://docs.python.org/3/tutorial/classes.html\n"
   ]
  },
  {
   "attachments": {},
   "cell_type": "markdown",
   "metadata": {},
   "source": [
    "### 2. Exceptions"
   ]
  },
  {
   "cell_type": "code",
   "execution_count": null,
   "metadata": {},
   "outputs": [],
   "source": [
    "1 / 0\n"
   ]
  },
  {
   "cell_type": "code",
   "execution_count": null,
   "metadata": {},
   "outputs": [],
   "source": [
    "try:\n",
    "    1 / 0\n",
    "except ZeroDivisionError:\n",
    "    print(\"It's the end of our world as we know it!\")\n",
    "except:\n",
    "    print(\"Something else has gone terribly wrong (gulp).\")\n"
   ]
  },
  {
   "attachments": {},
   "cell_type": "markdown",
   "metadata": {},
   "source": [
    "### 3. Testing"
   ]
  },
  {
   "attachments": {},
   "cell_type": "markdown",
   "metadata": {},
   "source": [
    "* The Python Bytes Podcast: https://pythonbytes.fm/\n",
    "\n",
    "* The Talk Python To Me Podcast: https://talkpython.fm/\n",
    "\n",
    "* Talk Python Training: https://training.talkpython.fm/"
   ]
  },
  {
   "attachments": {},
   "cell_type": "markdown",
   "metadata": {},
   "source": [
    "### 4. The Walrus Operator"
   ]
  },
  {
   "cell_type": "code",
   "execution_count": null,
   "metadata": {},
   "outputs": [],
   "source": [
    "import random\n",
    "\n",
    "x = random.randint(0, 10)\n",
    "\n",
    "if x < 5:\n",
    "    print(f\"{x} is less than five!\")\n",
    "else:\n",
    "    print(f\"{x} is five or greater.\")\n"
   ]
  },
  {
   "cell_type": "code",
   "execution_count": null,
   "metadata": {},
   "outputs": [],
   "source": [
    "if (x := random.randint(0, 10)) < 5:\n",
    "    print(f\"{x} is less than five!\")\n",
    "else:\n",
    "    print(f\"{x} is five or greater.\")\n"
   ]
  },
  {
   "attachments": {},
   "cell_type": "markdown",
   "metadata": {},
   "source": [
    "### 5. Where's the Switch? What Switch?"
   ]
  },
  {
   "attachments": {},
   "cell_type": "markdown",
   "metadata": {},
   "source": [
    "Until Python 3.10, there wasn't one.  After Python 3.10, use `match`... `case`..."
   ]
  },
  {
   "cell_type": "code",
   "execution_count": null,
   "metadata": {},
   "outputs": [],
   "source": [
    "thing = \"a\"\n",
    "\n",
    "if thing == 1:\n",
    "    print(\"You look like a 1.\")\n",
    "elif thing == \"A\":\n",
    "    print(\"You look like an UPPERCASE A.\")\n",
    "elif thing == \"a\":\n",
    "    print(\"You look like a lowercase a.\")\n",
    "else:\n",
    "    print(\"We've no idea what you are.\")\n"
   ]
  },
  {
   "cell_type": "code",
   "execution_count": null,
   "metadata": {},
   "outputs": [],
   "source": [
    "thing = \"a\"\n",
    "\n",
    "match thing:\n",
    "    case 1:\n",
    "        print(\"You look like a 1.\")\n",
    "    case \"A\":\n",
    "        print(\"You look like an UPPERCASE A.\")\n",
    "    case \"a\":\n",
    "        print(\"You look like a lowercase a.\")\n",
    "    case _:\n",
    "        print(\"We've no idea what you are.\")        "
   ]
  },
  {
   "attachments": {},
   "cell_type": "markdown",
   "metadata": {},
   "source": [
    "### 6. Advanced Language Features"
   ]
  },
  {
   "attachments": {},
   "cell_type": "markdown",
   "metadata": {},
   "source": [
    "* Decorator: https://docs.python.org/3/glossary.html#term-decorator\n",
    "\n",
    "* Context Manager: https://docs.python.org/3/glossary.html#term-context-manager"
   ]
  },
  {
   "attachments": {},
   "cell_type": "markdown",
   "metadata": {},
   "source": [
    "### 7. Concurrency"
   ]
  },
  {
   "attachments": {},
   "cell_type": "markdown",
   "metadata": {},
   "source": [
    "* Threads: https://docs.python.org/3/library/threading.html\n",
    "\n",
    "* Processes: https://docs.python.org/3/library/multiprocessing.html\n",
    "\n",
    "* Asynchronous programming with async and await: https://docs.python.org/3/library/asyncio.html"
   ]
  },
  {
   "attachments": {},
   "cell_type": "markdown",
   "metadata": {},
   "source": [
    "### 8. Type hints"
   ]
  },
  {
   "attachments": {},
   "cell_type": "markdown",
   "metadata": {},
   "source": [
    "* See: https://docs.python.org/3/glossary.html#term-type-hint\n",
    "\n",
    "* Mypy: https://pypi.org/project/mypy/"
   ]
  },
  {
   "attachments": {},
   "cell_type": "markdown",
   "metadata": {},
   "source": [
    "### 9. Virtual Environments"
   ]
  },
  {
   "attachments": {},
   "cell_type": "markdown",
   "metadata": {},
   "source": [
    "* What is a virtual environment? See https://docs.python.org/3/library/venv.html\n",
    "\n"
   ]
  },
  {
   "attachments": {},
   "cell_type": "markdown",
   "metadata": {},
   "source": [
    "### 10. Tools"
   ]
  },
  {
   "attachments": {},
   "cell_type": "markdown",
   "metadata": {},
   "source": [
    "* PyCharm: https://www.jetbrains.com/pycharm/\n",
    "\n",
    "* Wingware: https://wingware.com/\n",
    "\n",
    "* The black code formatter for Python: https://pypi.org/project/black/\n",
    "\n",
    "* Other code formatting (quality control) Python modules: https://pypi.org/search/?c=Topic+%3A%3A+Software+Development+%3A%3A+Quality+Assurance\n",
    "\n",
    "* Create delightful software with Jupyter Notebooks: https://nbdev.fast.ai/"
   ]
  }
 ],
 "metadata": {
  "kernelspec": {
   "display_name": "Python 3",
   "language": "python",
   "name": "python3"
  },
  "language_info": {
   "codemirror_mode": {
    "name": "ipython",
    "version": 3
   },
   "file_extension": ".py",
   "mimetype": "text/x-python",
   "name": "python",
   "nbconvert_exporter": "python",
   "pygments_lexer": "ipython3",
   "version": "3.11.2"
  },
  "orig_nbformat": 4
 },
 "nbformat": 4,
 "nbformat_minor": 2
}
