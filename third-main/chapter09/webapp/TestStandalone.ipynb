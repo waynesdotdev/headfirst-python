{
 "cells": [
  {
   "cell_type": "code",
   "execution_count": null,
   "metadata": {},
   "outputs": [],
   "source": [
    "def event_lookup(event):\n",
    "    conversions = {\n",
    "        \"Free\": \"freestyle\",\n",
    "        \"Back\": \"backstroke\",\n",
    "        \"Breast\": \"breaststroke\",\n",
    "        \"Fly\": \"butterfly\",\n",
    "        \"IM\": \"individual medley\",\n",
    "    }\n",
    "\n",
    "    *_, distance, stroke = event.removesuffix(\".txt\").split(\"-\")\n",
    "\n",
    "    return f\"{distance} {conversions[stroke]}\""
   ]
  },
  {
   "cell_type": "code",
   "execution_count": null,
   "metadata": {},
   "outputs": [],
   "source": [
    "print(event_lookup(\"Darius-13-100m-Back.txt\"))\n",
    "print(event_lookup(\"Darius-13-100m-Breast.txt\"))\n",
    "print(event_lookup(\"Darius-13-100m-Fly.txt\"))\n",
    "print(event_lookup(\"Darius-13-100m-IM.txt\"))"
   ]
  },
  {
   "cell_type": "code",
   "execution_count": null,
   "metadata": {},
   "outputs": [],
   "source": [
    "import json\n",
    "\n",
    "with open(\"records.json\") as jf:\n",
    "    records = json.load(jf)"
   ]
  },
  {
   "cell_type": "code",
   "execution_count": null,
   "metadata": {},
   "outputs": [],
   "source": [
    "records[\"LC Men\"][event_lookup(\"Darius-13-100m-Fly.txt\")]"
   ]
  },
  {
   "cell_type": "code",
   "execution_count": null,
   "metadata": {},
   "outputs": [],
   "source": [
    "COURSES = (\"LC Men\", \"LC Women\", \"SC Men\", \"SC Women\")"
   ]
  },
  {
   "cell_type": "code",
   "execution_count": null,
   "metadata": {},
   "outputs": [],
   "source": [
    "for course in COURSES:\n",
    "    print(records[course][event_lookup(\"Darius-13-100m-Fly.txt\")])"
   ]
  },
  {
   "cell_type": "code",
   "execution_count": null,
   "metadata": {},
   "outputs": [],
   "source": [
    "times = []\n",
    "for course in COURSES:\n",
    "    times.append(records[course][event_lookup(\"Darius-13-100m-Fly.txt\")])\n",
    "times"
   ]
  },
  {
   "cell_type": "code",
   "execution_count": null,
   "metadata": {},
   "outputs": [],
   "source": [
    "f\"<p>M: {times[0]} ({times[2]})<br />W: {times[1]} ({times[3]})</p>\""
   ]
  },
  {
   "cell_type": "code",
   "execution_count": null,
   "metadata": {},
   "outputs": [],
   "source": []
  }
 ],
 "metadata": {
  "kernelspec": {
   "display_name": "Python 3",
   "language": "python",
   "name": "python3"
  },
  "language_info": {
   "codemirror_mode": {
    "name": "ipython",
    "version": 3
   },
   "file_extension": ".py",
   "mimetype": "text/x-python",
   "name": "python",
   "nbconvert_exporter": "python",
   "pygments_lexer": "ipython3",
   "version": "3.11.3"
  },
  "orig_nbformat": 4,
  "vscode": {
   "interpreter": {
    "hash": "5c7b89af1651d0b8571dde13640ecdccf7d5a6204171d6ab33e7c296e100e08a"
   }
  }
 },
 "nbformat": 4,
 "nbformat_minor": 2
}
