{
 "cells": [
  {
   "cell_type": "code",
   "execution_count": 1,
   "id": "initial_id",
   "metadata": {
    "ExecuteTime": {
     "end_time": "2024-02-26T09:02:41.447341Z",
     "start_time": "2024-02-26T09:02:41.443455100Z"
    },
    "collapsed": true
   },
   "outputs": [],
   "source": [
    "import random\n",
    "\n",
    "suits = ['Clubs', 'Spades', 'Hearts', 'Diamonds']\n",
    "faces = ['Jacks', 'Queens', 'Kings', 'Aces']\n",
    "numbered = [2, 3, 4, 5, 6, 7, 8, 9, 10]"
   ]
  },
  {
   "cell_type": "code",
   "execution_count": 2,
   "id": "3a864d947b85e9ff",
   "metadata": {
    "ExecuteTime": {
     "end_time": "2024-02-26T09:04:11.871701100Z",
     "start_time": "2024-02-26T09:04:11.859645600Z"
    },
    "collapsed": false
   },
   "outputs": [
    {
     "data": {
      "text/plain": [
       "['Clubs', 'Spades', 'Hearts', 'Diamonds']"
      ]
     },
     "execution_count": 2,
     "metadata": {},
     "output_type": "execute_result"
    }
   ],
   "source": [
    "suits"
   ]
  },
  {
   "cell_type": "code",
   "execution_count": 3,
   "id": "80d012bbe7dfaa04",
   "metadata": {
    "ExecuteTime": {
     "end_time": "2024-02-26T09:05:17.535592300Z",
     "start_time": "2024-02-26T09:05:17.531189700Z"
    },
    "collapsed": false
   },
   "outputs": [],
   "source": [
    "def draw():\n",
    "    the_suit = random.choice(suits)\n",
    "    the_card = random.choice(faces + numbered)\n",
    "    return the_card, 'of', the_suit"
   ]
  },
  {
   "cell_type": "code",
   "execution_count": 4,
   "id": "31678a51cd90c985",
   "metadata": {
    "ExecuteTime": {
     "end_time": "2024-02-26T09:09:00.215745700Z",
     "start_time": "2024-02-26T09:09:00.212895700Z"
    },
    "collapsed": false
   },
   "outputs": [
    {
     "name": "stdout",
     "output_type": "stream",
     "text": [
      "('Queens', 'of', 'Clubs')\n"
     ]
    }
   ],
   "source": [
    "print(draw())"
   ]
  },
  {
   "cell_type": "code",
   "execution_count": 5,
   "id": "c28f4c89c3913db2",
   "metadata": {
    "ExecuteTime": {
     "end_time": "2024-02-26T09:09:09.696582100Z",
     "start_time": "2024-02-26T09:09:09.694180600Z"
    },
    "collapsed": false
   },
   "outputs": [
    {
     "name": "stdout",
     "output_type": "stream",
     "text": [
      "(5, 'of', 'Hearts')\n"
     ]
    }
   ],
   "source": [
    "print(draw())"
   ]
  },
  {
   "cell_type": "code",
   "execution_count": 6,
   "id": "d5c03777e9473748",
   "metadata": {
    "ExecuteTime": {
     "end_time": "2024-02-26T09:09:14.331062600Z",
     "start_time": "2024-02-26T09:09:14.323905400Z"
    },
    "collapsed": false
   },
   "outputs": [
    {
     "name": "stdout",
     "output_type": "stream",
     "text": [
      "('Aces', 'of', 'Spades')\n"
     ]
    }
   ],
   "source": [
    "print(draw())"
   ]
  },
  {
   "cell_type": "code",
   "execution_count": 7,
   "id": "11def55372d143ee",
   "metadata": {
    "ExecuteTime": {
     "end_time": "2024-02-26T09:13:16.659587600Z",
     "start_time": "2024-02-26T09:13:16.650820300Z"
    },
    "collapsed": false
   },
   "outputs": [
    {
     "name": "stdout",
     "output_type": "stream",
     "text": [
      "(6, 'of', 'Spades')\n",
      "(2, 'of', 'Spades')\n",
      "(4, 'of', 'Clubs')\n",
      "('Kings', 'of', 'Clubs')\n",
      "('Aces', 'of', 'Hearts')\n"
     ]
    }
   ],
   "source": [
    "for _ in range(5):\n",
    "    print(draw())"
   ]
  },
  {
   "cell_type": "code",
   "execution_count": 8,
   "id": "155973a095b0e5ec",
   "metadata": {
    "ExecuteTime": {
     "end_time": "2024-02-26T09:19:00.033735900Z",
     "start_time": "2024-02-26T09:19:00.026722700Z"
    },
    "collapsed": false
   },
   "outputs": [],
   "source": [
    "deck = set()"
   ]
  },
  {
   "cell_type": "code",
   "execution_count": 9,
   "id": "1461296e93dca334",
   "metadata": {
    "ExecuteTime": {
     "end_time": "2024-02-26T09:19:05.082613900Z",
     "start_time": "2024-02-26T09:19:05.075631500Z"
    },
    "collapsed": false
   },
   "outputs": [
    {
     "data": {
      "text/plain": [
       "set"
      ]
     },
     "execution_count": 9,
     "metadata": {},
     "output_type": "execute_result"
    }
   ],
   "source": [
    "type(deck)"
   ]
  },
  {
   "cell_type": "code",
   "execution_count": 10,
   "id": "c110a3b27cafb84c",
   "metadata": {
    "ExecuteTime": {
     "end_time": "2024-02-26T09:19:11.166990100Z",
     "start_time": "2024-02-26T09:19:11.160633300Z"
    },
    "collapsed": false
   },
   "outputs": [
    {
     "data": {
      "text/plain": [
       "0"
      ]
     },
     "execution_count": 10,
     "metadata": {},
     "output_type": "execute_result"
    }
   ],
   "source": [
    "len(deck)"
   ]
  },
  {
   "cell_type": "code",
   "execution_count": 11,
   "id": "c7b1dc148a558efe",
   "metadata": {
    "ExecuteTime": {
     "end_time": "2024-02-26T09:20:26.398206500Z",
     "start_time": "2024-02-26T09:20:26.390128100Z"
    },
    "collapsed": false
   },
   "outputs": [
    {
     "name": "stdout",
     "output_type": "stream",
     "text": [
      "['__and__', '__class__', '__class_getitem__', '__contains__', '__delattr__', '__dir__', '__doc__', '__eq__', '__format__', '__ge__', '__getattribute__', '__getstate__', '__gt__', '__hash__', '__iand__', '__init__', '__init_subclass__', '__ior__', '__isub__', '__iter__', '__ixor__', '__le__', '__len__', '__lt__', '__ne__', '__new__', '__or__', '__rand__', '__reduce__', '__reduce_ex__', '__repr__', '__ror__', '__rsub__', '__rxor__', '__setattr__', '__sizeof__', '__str__', '__sub__', '__subclasshook__', '__xor__', 'add', 'clear', 'copy', 'difference', 'difference_update', 'discard', 'intersection', 'intersection_update', 'isdisjoint', 'issubset', 'issuperset', 'pop', 'remove', 'symmetric_difference', 'symmetric_difference_update', 'union', 'update']\n"
     ]
    }
   ],
   "source": [
    "print(dir(deck))"
   ]
  },
  {
   "cell_type": "code",
   "execution_count": 12,
   "id": "135c3a1b053eaf97",
   "metadata": {
    "ExecuteTime": {
     "end_time": "2024-02-26T09:24:08.733377Z",
     "start_time": "2024-02-26T09:24:08.723797900Z"
    },
    "collapsed": false
   },
   "outputs": [
    {
     "name": "stdout",
     "output_type": "stream",
     "text": [
      "Help on built-in function add:\n",
      "\n",
      "add(...) method of builtins.set instance\n",
      "    Add an element to a set.\n",
      "\n",
      "    This has no effect if the element is already present.\n",
      "\n"
     ]
    }
   ],
   "source": [
    "help(deck.add)"
   ]
  },
  {
   "cell_type": "code",
   "execution_count": 13,
   "id": "3c913179c35a689e",
   "metadata": {
    "ExecuteTime": {
     "end_time": "2024-02-26T09:26:10.544893200Z",
     "start_time": "2024-02-26T09:26:10.538697800Z"
    },
    "collapsed": false
   },
   "outputs": [],
   "source": [
    "for suit in suits:\n",
    "    for card in faces + numbered:\n",
    "        deck.add((card, 'of', suit))"
   ]
  },
  {
   "cell_type": "code",
   "execution_count": 14,
   "id": "456f2e717c79c7a",
   "metadata": {
    "ExecuteTime": {
     "end_time": "2024-02-26T09:26:15.422300Z",
     "start_time": "2024-02-26T09:26:15.412144400Z"
    },
    "collapsed": false
   },
   "outputs": [
    {
     "data": {
      "text/plain": [
       "{('Aces', 'of', 'Clubs'),\n",
       " ('Aces', 'of', 'Diamonds'),\n",
       " ('Aces', 'of', 'Hearts'),\n",
       " ('Aces', 'of', 'Spades'),\n",
       " ('Jacks', 'of', 'Clubs'),\n",
       " ('Jacks', 'of', 'Diamonds'),\n",
       " ('Jacks', 'of', 'Hearts'),\n",
       " ('Jacks', 'of', 'Spades'),\n",
       " ('Kings', 'of', 'Clubs'),\n",
       " ('Kings', 'of', 'Diamonds'),\n",
       " ('Kings', 'of', 'Hearts'),\n",
       " ('Kings', 'of', 'Spades'),\n",
       " ('Queens', 'of', 'Clubs'),\n",
       " ('Queens', 'of', 'Diamonds'),\n",
       " ('Queens', 'of', 'Hearts'),\n",
       " ('Queens', 'of', 'Spades'),\n",
       " (10, 'of', 'Clubs'),\n",
       " (10, 'of', 'Diamonds'),\n",
       " (10, 'of', 'Hearts'),\n",
       " (10, 'of', 'Spades'),\n",
       " (2, 'of', 'Clubs'),\n",
       " (2, 'of', 'Diamonds'),\n",
       " (2, 'of', 'Hearts'),\n",
       " (2, 'of', 'Spades'),\n",
       " (3, 'of', 'Clubs'),\n",
       " (3, 'of', 'Diamonds'),\n",
       " (3, 'of', 'Hearts'),\n",
       " (3, 'of', 'Spades'),\n",
       " (4, 'of', 'Clubs'),\n",
       " (4, 'of', 'Diamonds'),\n",
       " (4, 'of', 'Hearts'),\n",
       " (4, 'of', 'Spades'),\n",
       " (5, 'of', 'Clubs'),\n",
       " (5, 'of', 'Diamonds'),\n",
       " (5, 'of', 'Hearts'),\n",
       " (5, 'of', 'Spades'),\n",
       " (6, 'of', 'Clubs'),\n",
       " (6, 'of', 'Diamonds'),\n",
       " (6, 'of', 'Hearts'),\n",
       " (6, 'of', 'Spades'),\n",
       " (7, 'of', 'Clubs'),\n",
       " (7, 'of', 'Diamonds'),\n",
       " (7, 'of', 'Hearts'),\n",
       " (7, 'of', 'Spades'),\n",
       " (8, 'of', 'Clubs'),\n",
       " (8, 'of', 'Diamonds'),\n",
       " (8, 'of', 'Hearts'),\n",
       " (8, 'of', 'Spades'),\n",
       " (9, 'of', 'Clubs'),\n",
       " (9, 'of', 'Diamonds'),\n",
       " (9, 'of', 'Hearts'),\n",
       " (9, 'of', 'Spades')}"
      ]
     },
     "execution_count": 14,
     "metadata": {},
     "output_type": "execute_result"
    }
   ],
   "source": [
    "deck"
   ]
  },
  {
   "cell_type": "code",
   "execution_count": 15,
   "id": "1c4f12a8b9fcb4e0",
   "metadata": {
    "ExecuteTime": {
     "end_time": "2024-02-26T09:26:40.334020700Z",
     "start_time": "2024-02-26T09:26:40.326720500Z"
    },
    "collapsed": false
   },
   "outputs": [
    {
     "data": {
      "text/plain": [
       "52"
      ]
     },
     "execution_count": 15,
     "metadata": {},
     "output_type": "execute_result"
    }
   ],
   "source": [
    "len(deck)"
   ]
  },
  {
   "cell_type": "code",
   "execution_count": 16,
   "id": "8e3b6f210e686498",
   "metadata": {
    "ExecuteTime": {
     "end_time": "2024-02-26T09:28:52.482916500Z",
     "start_time": "2024-02-26T09:28:52.477608800Z"
    },
    "collapsed": false
   },
   "outputs": [],
   "source": [
    "# random.choice(deck) # this does not work as sets dont have this random options"
   ]
  },
  {
   "cell_type": "code",
   "execution_count": 17,
   "id": "42a86147612c0aeb",
   "metadata": {
    "ExecuteTime": {
     "end_time": "2024-02-26T09:30:32.855811700Z",
     "start_time": "2024-02-26T09:30:32.847865300Z"
    },
    "collapsed": false
   },
   "outputs": [
    {
     "name": "stdout",
     "output_type": "stream",
     "text": [
      "(2, 'of', 'Spades')\n"
     ]
    }
   ],
   "source": [
    "card = random.choice(list(deck))\n",
    "print(card)"
   ]
  },
  {
   "cell_type": "code",
   "execution_count": 18,
   "id": "55fd5d895a6fbaeb",
   "metadata": {
    "ExecuteTime": {
     "end_time": "2024-02-26T09:31:19.225741200Z",
     "start_time": "2024-02-26T09:31:19.218718Z"
    },
    "collapsed": false
   },
   "outputs": [
    {
     "data": {
      "text/plain": [
       "51"
      ]
     },
     "execution_count": 18,
     "metadata": {},
     "output_type": "execute_result"
    }
   ],
   "source": [
    "deck.remove(card)\n",
    "len(deck)"
   ]
  },
  {
   "cell_type": "code",
   "execution_count": 19,
   "id": "b4d966655262dfc7",
   "metadata": {
    "ExecuteTime": {
     "end_time": "2024-02-26T09:31:53.097665600Z",
     "start_time": "2024-02-26T09:31:53.087845400Z"
    },
    "collapsed": false
   },
   "outputs": [
    {
     "data": {
      "text/plain": [
       "tuple"
      ]
     },
     "execution_count": 19,
     "metadata": {},
     "output_type": "execute_result"
    }
   ],
   "source": [
    "type(card)"
   ]
  },
  {
   "cell_type": "code",
   "execution_count": 20,
   "id": "3d3ef7473acbbad4",
   "metadata": {
    "ExecuteTime": {
     "end_time": "2024-02-26T09:32:12.581823Z",
     "start_time": "2024-02-26T09:32:12.573339800Z"
    },
    "collapsed": false
   },
   "outputs": [
    {
     "data": {
      "text/plain": [
       "(2, 'of', 'Spades')"
      ]
     },
     "execution_count": 20,
     "metadata": {},
     "output_type": "execute_result"
    }
   ],
   "source": [
    "card"
   ]
  },
  {
   "cell_type": "code",
   "execution_count": 21,
   "id": "e3499f2865ed6d06",
   "metadata": {
    "ExecuteTime": {
     "end_time": "2024-02-26T09:33:55.540345700Z",
     "start_time": "2024-02-26T09:33:55.533221200Z"
    },
    "collapsed": false
   },
   "outputs": [],
   "source": [
    "def draw():\n",
    "    card = random.choice(list(deck))\n",
    "    deck.remove(card)\n",
    "    return card"
   ]
  },
  {
   "cell_type": "code",
   "execution_count": 22,
   "id": "f7b494624e972bdb",
   "metadata": {
    "ExecuteTime": {
     "end_time": "2024-02-26T09:34:01.919024100Z",
     "start_time": "2024-02-26T09:34:01.909621Z"
    },
    "collapsed": false
   },
   "outputs": [
    {
     "data": {
      "text/plain": [
       "('Queens', 'of', 'Hearts')"
      ]
     },
     "execution_count": 22,
     "metadata": {},
     "output_type": "execute_result"
    }
   ],
   "source": [
    "draw()"
   ]
  },
  {
   "cell_type": "code",
   "execution_count": 23,
   "id": "d9e623859efc0fa0",
   "metadata": {
    "ExecuteTime": {
     "end_time": "2024-02-26T09:34:11.159076800Z",
     "start_time": "2024-02-26T09:34:11.147211100Z"
    },
    "collapsed": false
   },
   "outputs": [
    {
     "data": {
      "text/plain": [
       "('Jacks', 'of', 'Diamonds')"
      ]
     },
     "execution_count": 23,
     "metadata": {},
     "output_type": "execute_result"
    }
   ],
   "source": [
    "draw()"
   ]
  },
  {
   "cell_type": "code",
   "execution_count": 24,
   "id": "48a6e174609d4551",
   "metadata": {
    "ExecuteTime": {
     "end_time": "2024-02-26T09:34:15.387520200Z",
     "start_time": "2024-02-26T09:34:15.379482100Z"
    },
    "collapsed": false
   },
   "outputs": [
    {
     "data": {
      "text/plain": [
       "('Queens', 'of', 'Diamonds')"
      ]
     },
     "execution_count": 24,
     "metadata": {},
     "output_type": "execute_result"
    }
   ],
   "source": [
    "draw()"
   ]
  },
  {
   "cell_type": "code",
   "execution_count": 25,
   "id": "e23f15d8410d0373",
   "metadata": {
    "ExecuteTime": {
     "end_time": "2024-02-26T09:34:23.754213600Z",
     "start_time": "2024-02-26T09:34:23.743602900Z"
    },
    "collapsed": false
   },
   "outputs": [
    {
     "data": {
      "text/plain": [
       "48"
      ]
     },
     "execution_count": 25,
     "metadata": {},
     "output_type": "execute_result"
    }
   ],
   "source": [
    "len(deck)"
   ]
  },
  {
   "cell_type": "code",
   "execution_count": 26,
   "id": "41fda4d765fb58e9",
   "metadata": {
    "ExecuteTime": {
     "end_time": "2024-02-26T09:35:55.246491300Z",
     "start_time": "2024-02-26T09:35:55.239115400Z"
    },
    "collapsed": false
   },
   "outputs": [],
   "source": [
    "card = (\"Ace\", \"of\", \"Hearts\")"
   ]
  },
  {
   "cell_type": "code",
   "execution_count": 27,
   "id": "4ada39864fe5e01c",
   "metadata": {
    "ExecuteTime": {
     "end_time": "2024-02-26T09:35:59.813896900Z",
     "start_time": "2024-02-26T09:35:59.805604800Z"
    },
    "collapsed": false
   },
   "outputs": [
    {
     "data": {
      "text/plain": [
       "False"
      ]
     },
     "execution_count": 27,
     "metadata": {},
     "output_type": "execute_result"
    }
   ],
   "source": [
    "card in deck"
   ]
  },
  {
   "cell_type": "code",
   "execution_count": 28,
   "id": "b7cb71213f7cdb2d",
   "metadata": {
    "ExecuteTime": {
     "end_time": "2024-02-26T09:37:00.865001500Z",
     "start_time": "2024-02-26T09:37:00.855130700Z"
    },
    "collapsed": false
   },
   "outputs": [
    {
     "name": "stdout",
     "output_type": "stream",
     "text": [
      "That cards already taken.\n"
     ]
    }
   ],
   "source": [
    "if card in deck:\n",
    "    print(\"That cards available\")\n",
    "else:\n",
    "    print(\"That cards already taken.\")"
   ]
  },
  {
   "cell_type": "code",
   "execution_count": null,
   "id": "32339093",
   "metadata": {},
   "outputs": [],
   "source": []
  }
 ],
 "metadata": {
  "kernelspec": {
   "display_name": "Python 3",
   "language": "python",
   "name": "python3"
  },
  "language_info": {
   "codemirror_mode": {
    "name": "ipython",
    "version": 3
   },
   "file_extension": ".py",
   "mimetype": "text/x-python",
   "name": "python",
   "nbconvert_exporter": "python",
   "pygments_lexer": "ipython3",
   "version": "3.12.2"
  }
 },
 "nbformat": 4,
 "nbformat_minor": 5
}
